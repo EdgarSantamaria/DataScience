{
 "cells": [
  {
   "cell_type": "markdown",
   "source": [
    "NUMPY PRACTICE CREATING ARRAYS"
   ],
   "metadata": {
    "collapsed": false
   },
   "id": "9c5508a5aa72665f"
  },
  {
   "cell_type": "code",
   "execution_count": 1,
   "id": "initial_id",
   "metadata": {
    "collapsed": true,
    "ExecuteTime": {
     "end_time": "2024-02-20T23:50:07.275809Z",
     "start_time": "2024-02-20T23:50:07.215856Z"
    }
   },
   "outputs": [],
   "source": [
    "import numpy as np"
   ]
  },
  {
   "cell_type": "markdown",
   "source": [
    "1. Create a rank 2 (2D) array that resembles the matrix below.\n",
    "[[11 12 13 14]\n",
    " [15 16 17 18]]"
   ],
   "metadata": {
    "collapsed": false
   },
   "id": "d648e3be0c184630"
  },
  {
   "cell_type": "code",
   "outputs": [
    {
     "name": "stdout",
     "output_type": "stream",
     "text": [
      "[[11 12 13 14]\n",
      " [15 16 17 18]]\n"
     ]
    }
   ],
   "source": [
    "array = np.array([[11,12,13,14], [15,16,17,18]])\n",
    "print(array)"
   ],
   "metadata": {
    "collapsed": false,
    "ExecuteTime": {
     "end_time": "2024-02-20T23:52:20.098403Z",
     "start_time": "2024-02-20T23:52:20.090106Z"
    }
   },
   "id": "a2488b742a7b961b",
   "execution_count": 2
  },
  {
   "cell_type": "markdown",
   "source": [
    "1. Create an array with 4 rows and 3 columns of zeros. Your results should look as below:\n",
    "[[0. 0. 0.]\n",
    " [0. 0. 0.]\n",
    " [0. 0. 0.]\n",
    " [0. 0. 0.]]"
   ],
   "metadata": {
    "collapsed": false
   },
   "id": "ee803c60b44227df"
  },
  {
   "cell_type": "code",
   "outputs": [
    {
     "name": "stdout",
     "output_type": "stream",
     "text": [
      "[[0. 0. 0.]\n",
      " [0. 0. 0.]\n",
      " [0. 0. 0.]\n",
      " [0. 0. 0.]]\n"
     ]
    }
   ],
   "source": [
    "zeros = np.zeros((4,3))\n",
    "print(zeros)"
   ],
   "metadata": {
    "collapsed": false,
    "ExecuteTime": {
     "end_time": "2024-02-20T23:54:03.211417Z",
     "start_time": "2024-02-20T23:54:03.207778Z"
    }
   },
   "id": "9c12ca10a60b1f3b",
   "execution_count": 4
  },
  {
   "cell_type": "markdown",
   "source": [
    "2.Create an array of ones that has 3 rows and 4 columns. Your results should look as below:\n",
    "[[1. 1. 1. 1.]\n",
    "[1. 1. 1. 1.]\n",
    "[1. 1. 1. 1.]]"
   ],
   "metadata": {
    "collapsed": false
   },
   "id": "cd5e2019e0024886"
  },
  {
   "cell_type": "code",
   "outputs": [
    {
     "name": "stdout",
     "output_type": "stream",
     "text": [
      "[[1. 1. 1. 1.]\n",
      " [1. 1. 1. 1.]\n",
      " [1. 1. 1. 1.]]\n"
     ]
    }
   ],
   "source": [
    "ones = np.ones((3,4))\n",
    "print(ones)"
   ],
   "metadata": {
    "collapsed": false,
    "ExecuteTime": {
     "end_time": "2024-02-20T23:54:41.982364Z",
     "start_time": "2024-02-20T23:54:41.967536Z"
    }
   },
   "id": "799059de9956beef",
   "execution_count": 5
  },
  {
   "cell_type": "markdown",
   "source": [
    "3. Create an array containing integers 4 to 13 inclusive. Your results should look as below:\n",
    "[4 5 6 7 8 9 10 11 12 13]"
   ],
   "metadata": {
    "collapsed": false
   },
   "id": "d6ab4dfb05e26ea8"
  },
  {
   "cell_type": "code",
   "outputs": [
    {
     "name": "stdout",
     "output_type": "stream",
     "text": [
      "[ 4  5  6  7  8  9 10 11 12 13]\n"
     ]
    }
   ],
   "source": [
    "inclusive = np.arange(4, 14)\n",
    "print(inclusive)"
   ],
   "metadata": {
    "collapsed": false,
    "ExecuteTime": {
     "end_time": "2024-02-20T23:56:09.096009Z",
     "start_time": "2024-02-20T23:56:09.085031Z"
    }
   },
   "id": "fe9ec6b2ee4f895b",
   "execution_count": 8
  },
  {
   "cell_type": "markdown",
   "source": [
    "4. Create an array containing\n",
    "[0., 1.5, 3., 4.5]"
   ],
   "metadata": {
    "collapsed": false
   },
   "id": "f34b9ac3ab5ffaed"
  },
  {
   "cell_type": "code",
   "outputs": [
    {
     "name": "stdout",
     "output_type": "stream",
     "text": [
      "[0.  1.5 3.  4.5]\n"
     ]
    }
   ],
   "source": [
    "new_array = np.array([0, 1.5,3,4.5])\n",
    "print(new_array)"
   ],
   "metadata": {
    "collapsed": false,
    "ExecuteTime": {
     "end_time": "2024-02-20T23:57:23.279676Z",
     "start_time": "2024-02-20T23:57:23.272554Z"
    }
   },
   "id": "ecf751b4bcada790",
   "execution_count": 9
  },
  {
   "cell_type": "markdown",
   "source": [
    "5. Create a 2 by 2 array containing '4' in each position. Your results should look like this:\n",
    "[[4 4]\n",
    " [4 4]]"
   ],
   "metadata": {
    "collapsed": false
   },
   "id": "98e2256a3651cfdf"
  },
  {
   "cell_type": "code",
   "outputs": [
    {
     "name": "stdout",
     "output_type": "stream",
     "text": [
      "[[4. 4.]\n",
      " [4. 4.]]\n"
     ]
    }
   ],
   "source": [
    "fours = np.ones((2,2))*4\n",
    "print(fours)"
   ],
   "metadata": {
    "collapsed": false,
    "ExecuteTime": {
     "end_time": "2024-02-20T23:58:51.262512Z",
     "start_time": "2024-02-20T23:58:51.248133Z"
    }
   },
   "id": "73b917d002397707",
   "execution_count": 11
  },
  {
   "cell_type": "markdown",
   "source": [
    "6\n",
    ". Create 2 matrices:\n",
    "i. Identity matrix of size 4\n",
    "[[1. 0. 0. 0.]\n",
    " [0. 1. 0. 0.]\n",
    " [0. 0. 1. 0.]\n",
    " [0. 0. 0. 1.]]\n",
    "ii. Diagonal matrix with [10,12] as the diagonals\n",
    "[[10  0]\n",
    " [ 0 12]]"
   ],
   "metadata": {
    "collapsed": false
   },
   "id": "ce85ca7463b28fd5"
  },
  {
   "cell_type": "code",
   "outputs": [
    {
     "name": "stdout",
     "output_type": "stream",
     "text": [
      "[[1. 0. 0. 0.]\n",
      " [0. 1. 0. 0.]\n",
      " [0. 0. 1. 0.]\n",
      " [0. 0. 0. 1.]]\n"
     ]
    }
   ],
   "source": [
    "identity = np.identity(4)\n",
    "print(identity)"
   ],
   "metadata": {
    "collapsed": false,
    "ExecuteTime": {
     "end_time": "2024-02-21T00:00:28.812207Z",
     "start_time": "2024-02-21T00:00:28.807489Z"
    }
   },
   "id": "9cd48b0dc163e3e7",
   "execution_count": 12
  },
  {
   "cell_type": "code",
   "outputs": [
    {
     "name": "stdout",
     "output_type": "stream",
     "text": [
      "[[10  0]\n",
      " [ 0 12]]\n"
     ]
    }
   ],
   "source": [
    "diagonal = np.diag([10,12])\n",
    "print(diagonal)"
   ],
   "metadata": {
    "collapsed": false,
    "ExecuteTime": {
     "end_time": "2024-02-21T00:00:56.965618Z",
     "start_time": "2024-02-21T00:00:56.961234Z"
    }
   },
   "id": "16501b37698f7e99",
   "execution_count": 13
  },
  {
   "cell_type": "markdown",
   "source": [
    "7. Create a 3 by 3 array with random floats in [0, 10]. Your answer may be different because it is random but it should look something like this:\n",
    "[[6.3685612  0.61720883 8.93157783]\n",
    " [3.69927617 5.79879583 7.62145626]\n",
    " [7.21895112 4.02011535 4.48844787]]"
   ],
   "metadata": {
    "collapsed": false
   },
   "id": "ebe71e4d72789b86"
  },
  {
   "cell_type": "code",
   "outputs": [
    {
     "name": "stdout",
     "output_type": "stream",
     "text": [
      "[[6.52016882 2.19828334 4.32261182]\n",
      " [7.28381268 4.94830252 7.64591918]\n",
      " [2.84383246 3.42130339 2.85273301]]\n"
     ]
    }
   ],
   "source": [
    "random = np.random.uniform(0,10, (3,3))\n",
    "print(random)"
   ],
   "metadata": {
    "collapsed": false,
    "ExecuteTime": {
     "end_time": "2024-02-21T00:03:17.823805Z",
     "start_time": "2024-02-21T00:03:17.807847Z"
    }
   },
   "id": "dfabdc6541164a69",
   "execution_count": 15
  },
  {
   "cell_type": "markdown",
   "source": [
    "8. Create a 3 by 3 array with random integers in [10, 20]. Your answer may be different because it is random but it should look something like this:\n",
    "[[19 11 13]\n",
    " [10 11 13]\n",
    " [11 14 10]]"
   ],
   "metadata": {
    "collapsed": false
   },
   "id": "9e77170637c0795"
  },
  {
   "cell_type": "code",
   "outputs": [
    {
     "name": "stdout",
     "output_type": "stream",
     "text": [
      "[[17 11 17]\n",
      " [16 10 16]\n",
      " [15 11 11]]\n"
     ]
    }
   ],
   "source": [
    "rand_int = np.random.randint(10,20, (3,3))\n",
    "print(rand_int)"
   ],
   "metadata": {
    "collapsed": false,
    "ExecuteTime": {
     "end_time": "2024-02-21T00:04:37.952420Z",
     "start_time": "2024-02-21T00:04:37.947068Z"
    }
   },
   "id": "b3d7db5db7e8d4b0",
   "execution_count": 16
  },
  {
   "cell_type": "markdown",
   "source": [
    "SLICING ARRAYS"
   ],
   "metadata": {
    "collapsed": false
   },
   "id": "effab1528438da83"
  },
  {
   "cell_type": "markdown",
   "source": [
    "1. Use this array for the following practice:\n",
    "myArray = np.array([[11,12,13], [14,15,16], [17,18,19]])\n",
    "a. Get a subarray of the first row and first 2 columns. Your results should look like this:\n",
    "[11 12]\n",
    "b. Change all elements in 1st and second row to 0. Your results should look like this:\n",
    "[[ 0  0  0]\n",
    " [ 0  0  0]\n",
    " [17 18 19]]"
   ],
   "metadata": {
    "collapsed": false
   },
   "id": "3093fb9cd85ecce5"
  },
  {
   "cell_type": "code",
   "outputs": [
    {
     "name": "stdout",
     "output_type": "stream",
     "text": [
      "[11 12 13]\n"
     ]
    }
   ],
   "source": [
    "myArray = np.array([[11,12,13], [14,15,16], [17,18,19]])\n",
    "subarray = myArray[0]\n",
    "print(subarray)"
   ],
   "metadata": {
    "collapsed": false,
    "ExecuteTime": {
     "end_time": "2024-02-21T00:06:39.477685Z",
     "start_time": "2024-02-21T00:06:39.474081Z"
    }
   },
   "id": "50ce925b0050c1eb",
   "execution_count": 17
  },
  {
   "cell_type": "code",
   "outputs": [
    {
     "name": "stdout",
     "output_type": "stream",
     "text": [
      "[[ 0  0  0]\n",
      " [ 0  0  0]\n",
      " [17 18 19]]\n"
     ]
    }
   ],
   "source": [
    "change = myArray\n",
    "change[[0,1]] = np.zeros(3)\n",
    "print(change)"
   ],
   "metadata": {
    "collapsed": false,
    "ExecuteTime": {
     "end_time": "2024-02-21T00:11:45.370648Z",
     "start_time": "2024-02-21T00:11:45.360008Z"
    }
   },
   "id": "85b20570a2f3716",
   "execution_count": 22
  },
  {
   "cell_type": "markdown",
   "source": [
    "2. Create an array that contains [0,1,2,3,4,5,6,7,8,9,10,11,12,13,14,15,16,17,18,19,20] and reverse the order."
   ],
   "metadata": {
    "collapsed": false
   },
   "id": "e83db7d028355ec6"
  },
  {
   "cell_type": "code",
   "outputs": [
    {
     "name": "stdout",
     "output_type": "stream",
     "text": [
      "[20 19 18 17 16 15 14 13 12 11 10  9  8  7  6  5  4  3  2  1  0]\n"
     ]
    }
   ],
   "source": [
    "reverse = np.arange(0,21)\n",
    "reverse = reverse[::-1]\n",
    "print(reverse)"
   ],
   "metadata": {
    "collapsed": false,
    "ExecuteTime": {
     "end_time": "2024-02-21T00:13:19.974071Z",
     "start_time": "2024-02-21T00:13:19.969244Z"
    }
   },
   "id": "7f1c3856f8aa93a1",
   "execution_count": 23
  },
  {
   "cell_type": "markdown",
   "source": [
    "RESHAPING\n",
    "Use this array for the following practice:\n",
    "myArray = np.array([[11,12,13], [14,15,16]])\n",
    "Reshape the array to an array with 3 rows. Your results should look like this:\n",
    "[[11 12]\n",
    " [13 14]\n",
    " [15 16]]"
   ],
   "metadata": {
    "collapsed": false
   },
   "id": "a47c7b7ce404ba0d"
  },
  {
   "cell_type": "code",
   "outputs": [
    {
     "name": "stdout",
     "output_type": "stream",
     "text": [
      "[[11 14]\n",
      " [12 15]\n",
      " [13 16]]\n"
     ]
    }
   ],
   "source": [
    "myArray = np.array([[11,12,13], [14,15,16]])\n",
    "reshape = np.transpose(myArray)\n",
    "print(reshape)"
   ],
   "metadata": {
    "collapsed": false,
    "ExecuteTime": {
     "end_time": "2024-02-21T00:15:41.420665Z",
     "start_time": "2024-02-21T00:15:41.415218Z"
    }
   },
   "id": "44b22d22150d1ff",
   "execution_count": 25
  },
  {
   "cell_type": "markdown",
   "source": [
    "MATH\n",
    "Use this array for the following practice:\n",
    "myArray = np.arange(10)\n",
    "1. Find the square of every number in array\n",
    "2. Find the square root of every number in array\n",
    "3. Multiply the square of each number in array with its respective square root"
   ],
   "metadata": {
    "collapsed": false
   },
   "id": "6343492114df0045"
  },
  {
   "cell_type": "code",
   "outputs": [
    {
     "name": "stdout",
     "output_type": "stream",
     "text": [
      "[0 1 2 3 4 5 6 7 8 9]\n"
     ]
    }
   ],
   "source": [
    "myArray = np.arange(10)\n",
    "print(myArray)"
   ],
   "metadata": {
    "collapsed": false,
    "ExecuteTime": {
     "end_time": "2024-02-21T00:18:47.706826Z",
     "start_time": "2024-02-21T00:18:47.699044Z"
    }
   },
   "id": "398ead3ff62b2d2",
   "execution_count": 31
  },
  {
   "cell_type": "code",
   "outputs": [
    {
     "name": "stdout",
     "output_type": "stream",
     "text": [
      "[ 0  1  4  9 16 25 36 49 64 81]\n"
     ]
    }
   ],
   "source": [
    "squares = np.square(myArray)\n",
    "print(squares)"
   ],
   "metadata": {
    "collapsed": false,
    "ExecuteTime": {
     "end_time": "2024-02-21T00:17:28.329983Z",
     "start_time": "2024-02-21T00:17:28.322258Z"
    }
   },
   "id": "dcca193589af19f5",
   "execution_count": 28
  },
  {
   "cell_type": "code",
   "outputs": [
    {
     "name": "stdout",
     "output_type": "stream",
     "text": [
      "[0.         1.         1.41421356 1.73205081 2.         2.23606798\n",
      " 2.44948974 2.64575131 2.82842712 3.        ]\n"
     ]
    }
   ],
   "source": [
    "square_root = np.sqrt(myArray)\n",
    "print(square_root)"
   ],
   "metadata": {
    "collapsed": false,
    "ExecuteTime": {
     "end_time": "2024-02-21T00:17:44.069355Z",
     "start_time": "2024-02-21T00:17:44.057827Z"
    }
   },
   "id": "42d905bedaa2f838",
   "execution_count": 29
  },
  {
   "cell_type": "code",
   "outputs": [
    {
     "name": "stdout",
     "output_type": "stream",
     "text": [
      "[  0.           1.           5.65685425  15.58845727  32.\n",
      "  55.90169944  88.18163074 129.64181424 181.01933598 243.        ]\n"
     ]
    }
   ],
   "source": [
    "multiple = np.multiply(squares, square_root)\n",
    "print(multiple)"
   ],
   "metadata": {
    "collapsed": false,
    "ExecuteTime": {
     "end_time": "2024-02-21T00:18:21.750856Z",
     "start_time": "2024-02-21T00:18:21.740306Z"
    }
   },
   "id": "4b5ec95222fd7c61",
   "execution_count": 30
  },
  {
   "cell_type": "markdown",
   "source": [
    "ADDING ELEMENTS\n",
    "Use this array for the following practice:\n",
    "myArray = np.array([[11,12,13], [14,15,16], [17,18,19]])\n",
    "1. Add a new row of elements containing 20, 21 and 22\n",
    "2. Add a new column of elements containing 30, 40 and 50"
   ],
   "metadata": {
    "collapsed": false
   },
   "id": "e1978c4f24c9dd6"
  },
  {
   "cell_type": "code",
   "outputs": [
    {
     "name": "stdout",
     "output_type": "stream",
     "text": [
      "[[11 12 13]\n",
      " [14 15 16]\n",
      " [17 18 19]\n",
      " [20 21 22]]\n"
     ]
    }
   ],
   "source": [
    "myArray = np.array([[11,12,13], [14,15,16], [17,18,19]])\n",
    "new_row = np.array([20,21,22])\n",
    "new_array = np.vstack((myArray,new_row))\n",
    "print(new_array)"
   ],
   "metadata": {
    "collapsed": false,
    "ExecuteTime": {
     "end_time": "2024-02-21T00:30:54.062411Z",
     "start_time": "2024-02-21T00:30:54.045042Z"
    }
   },
   "id": "cca86428d68efe8f",
   "execution_count": 57
  },
  {
   "cell_type": "code",
   "outputs": [
    {
     "name": "stdout",
     "output_type": "stream",
     "text": [
      "[[11 12 13 30]\n",
      " [14 15 16 40]\n",
      " [17 18 19 50]]\n"
     ]
    }
   ],
   "source": [
    "new_column = np.array([[30], [40], [50]])\n",
    "new_array_2 = np.hstack((myArray, new_column))\n",
    "print(new_array_2)"
   ],
   "metadata": {
    "collapsed": false,
    "ExecuteTime": {
     "end_time": "2024-02-21T00:31:07.812818Z",
     "start_time": "2024-02-21T00:31:07.797897Z"
    }
   },
   "id": "97aaa41d9c477ba8",
   "execution_count": 58
  },
  {
   "cell_type": "markdown",
   "source": [
    "INSERTING ELEMENTS\n",
    "1. Add 1 column of 1 to this array: myArray = np.zeros((2,2))\n",
    "2. Add 2 rows of 2 to the answer from part 1\n",
    "3. Remove the last column\n",
    "4. Remove the last row"
   ],
   "metadata": {
    "collapsed": false
   },
   "id": "ad04e724188d1025"
  },
  {
   "cell_type": "code",
   "outputs": [
    {
     "name": "stdout",
     "output_type": "stream",
     "text": [
      "[[0. 0.]\n",
      " [0. 0.]]\n"
     ]
    }
   ],
   "source": [
    "myArray = np.zeros((2,2))\n",
    "print(myArray)"
   ],
   "metadata": {
    "collapsed": false,
    "ExecuteTime": {
     "end_time": "2024-02-21T00:31:38.456812Z",
     "start_time": "2024-02-21T00:31:38.445475Z"
    }
   },
   "id": "551d6ccec4c1e37e",
   "execution_count": 59
  },
  {
   "cell_type": "code",
   "outputs": [
    {
     "name": "stdout",
     "output_type": "stream",
     "text": [
      "[[0. 0.]\n",
      " [0. 0.]\n",
      " [1. 1.]]\n"
     ]
    }
   ],
   "source": [
    "add_ones = np.vstack((myArray, np.array([1,1])))\n",
    "print(add_ones)"
   ],
   "metadata": {
    "collapsed": false,
    "ExecuteTime": {
     "end_time": "2024-02-21T00:33:06.829594Z",
     "start_time": "2024-02-21T00:33:06.579228Z"
    }
   },
   "id": "5212f5e8ab610016",
   "execution_count": 61
  },
  {
   "cell_type": "code",
   "outputs": [
    {
     "name": "stdout",
     "output_type": "stream",
     "text": [
      "[[0. 0.]\n",
      " [0. 0.]\n",
      " [1. 1.]\n",
      " [2. 2.]\n",
      " [2. 2.]]\n"
     ]
    }
   ],
   "source": [
    "add_two = np.vstack((add_ones, np.array([[2,2], [2,2]])))\n",
    "print(add_two)"
   ],
   "metadata": {
    "collapsed": false,
    "ExecuteTime": {
     "end_time": "2024-02-21T00:34:07.559739Z",
     "start_time": "2024-02-21T00:34:07.540391Z"
    }
   },
   "id": "72b2fc3235ad59ad",
   "execution_count": 64
  },
  {
   "cell_type": "code",
   "outputs": [
    {
     "name": "stdout",
     "output_type": "stream",
     "text": [
      "[[0.]\n",
      " [0.]]\n"
     ]
    }
   ],
   "source": [
    "remove_last_col = np.delete(myArray, 1, axis=1)\n",
    "print(remove_last_col)"
   ],
   "metadata": {
    "collapsed": false,
    "ExecuteTime": {
     "end_time": "2024-02-21T00:35:08.019148Z",
     "start_time": "2024-02-21T00:35:07.976795Z"
    }
   },
   "id": "a58115319f464b1d",
   "execution_count": 65
  },
  {
   "cell_type": "code",
   "outputs": [
    {
     "name": "stdout",
     "output_type": "stream",
     "text": [
      "[[0. 0.]]\n"
     ]
    }
   ],
   "source": [
    "remove_last_row = np.delete(myArray, 1, axis =0)\n",
    "print(remove_last_row)"
   ],
   "metadata": {
    "collapsed": false,
    "ExecuteTime": {
     "end_time": "2024-02-21T00:35:47.459463Z",
     "start_time": "2024-02-21T00:35:47.447803Z"
    }
   },
   "id": "75f7dc6c93edf56a",
   "execution_count": 66
  },
  {
   "cell_type": "markdown",
   "source": [
    "DELETING ELEMENTS\n",
    "Remove the elements from the middle column of this array:\n",
    "myArray = np.matrix([[1, 2, 3], [4, 5, 6], [9, 8, 7]])\n",
    "Your codes should look like this:\n",
    "[[1 3]\n",
    " [4 6]\n",
    " [9 7]]"
   ],
   "metadata": {
    "collapsed": false
   },
   "id": "5149adde89c485ee"
  },
  {
   "cell_type": "code",
   "outputs": [
    {
     "name": "stdout",
     "output_type": "stream",
     "text": [
      "[[1 2 3]\n",
      " [4 5 6]\n",
      " [9 8 7]]\n"
     ]
    }
   ],
   "source": [
    "myArray = np.matrix([[1, 2, 3], [4, 5, 6], [9, 8, 7]])\n",
    "print(myArray)"
   ],
   "metadata": {
    "collapsed": false,
    "ExecuteTime": {
     "end_time": "2024-02-21T00:36:23.969312Z",
     "start_time": "2024-02-21T00:36:23.959127Z"
    }
   },
   "id": "1a540a664579bdbd",
   "execution_count": 67
  },
  {
   "cell_type": "code",
   "outputs": [
    {
     "name": "stdout",
     "output_type": "stream",
     "text": [
      "[[1 3]\n",
      " [4 6]\n",
      " [9 7]]\n"
     ]
    }
   ],
   "source": [
    "remove_mid = np.delete(myArray, 1, axis = 1)\n",
    "print(remove_mid)"
   ],
   "metadata": {
    "collapsed": false,
    "ExecuteTime": {
     "end_time": "2024-02-21T00:37:15.347369Z",
     "start_time": "2024-02-21T00:37:15.318948Z"
    }
   },
   "id": "e24186000b09232e",
   "execution_count": 69
  },
  {
   "cell_type": "code",
   "outputs": [],
   "source": [],
   "metadata": {
    "collapsed": false
   },
   "id": "72c3a947d6d46639"
  }
 ],
 "metadata": {
  "kernelspec": {
   "display_name": "Python 3",
   "language": "python",
   "name": "python3"
  },
  "language_info": {
   "codemirror_mode": {
    "name": "ipython",
    "version": 2
   },
   "file_extension": ".py",
   "mimetype": "text/x-python",
   "name": "python",
   "nbconvert_exporter": "python",
   "pygments_lexer": "ipython2",
   "version": "2.7.6"
  }
 },
 "nbformat": 4,
 "nbformat_minor": 5
}
