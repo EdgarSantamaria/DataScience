{
 "cells": [
  {
   "cell_type": "markdown",
   "id": "9c5508a5aa72665f",
   "metadata": {},
   "source": [
    "NUMPY PRACTICE CREATING ARRAYS"
   ]
  },
  {
   "cell_type": "code",
   "execution_count": 1,
   "id": "initial_id",
   "metadata": {
    "ExecuteTime": {
     "end_time": "2024-02-20T23:50:07.275809Z",
     "start_time": "2024-02-20T23:50:07.215856Z"
    }
   },
   "outputs": [],
   "source": [
    "import numpy as np"
   ]
  },
  {
   "cell_type": "markdown",
   "id": "d648e3be0c184630",
   "metadata": {},
   "source": [
    "1. Create a rank 2 (2D) array that resembles the matrix below.\n",
    "[[11 12 13 14]\n",
    " [15 16 17 18]]"
   ]
  },
  {
   "cell_type": "code",
   "execution_count": 2,
   "id": "a2488b742a7b961b",
   "metadata": {
    "ExecuteTime": {
     "end_time": "2024-02-20T23:52:20.098403Z",
     "start_time": "2024-02-20T23:52:20.090106Z"
    }
   },
   "outputs": [
    {
     "name": "stdout",
     "output_type": "stream",
     "text": [
      "[[11 12 13 14]\n",
      " [15 16 17 18]]\n"
     ]
    }
   ],
   "source": [
    "array = np.array([[11,12,13,14], [15,16,17,18]])\n",
    "print(array)"
   ]
  },
  {
   "cell_type": "markdown",
   "id": "ee803c60b44227df",
   "metadata": {},
   "source": [
    "1. Create an array with 4 rows and 3 columns of zeros. Your results should look as below:\n",
    "[[0. 0. 0.]\n",
    " [0. 0. 0.]\n",
    " [0. 0. 0.]\n",
    " [0. 0. 0.]]"
   ]
  },
  {
   "cell_type": "code",
   "execution_count": 3,
   "id": "9c12ca10a60b1f3b",
   "metadata": {
    "ExecuteTime": {
     "end_time": "2024-02-20T23:54:03.211417Z",
     "start_time": "2024-02-20T23:54:03.207778Z"
    }
   },
   "outputs": [
    {
     "name": "stdout",
     "output_type": "stream",
     "text": [
      "[[0. 0. 0.]\n",
      " [0. 0. 0.]\n",
      " [0. 0. 0.]\n",
      " [0. 0. 0.]]\n"
     ]
    }
   ],
   "source": [
    "zeros = np.zeros((4,3))\n",
    "print(zeros)"
   ]
  },
  {
   "cell_type": "markdown",
   "id": "cd5e2019e0024886",
   "metadata": {},
   "source": [
    "2.Create an array of ones that has 3 rows and 4 columns. Your results should look as below:\n",
    "[[1. 1. 1. 1.]\n",
    "[1. 1. 1. 1.]\n",
    "[1. 1. 1. 1.]]"
   ]
  },
  {
   "cell_type": "code",
   "execution_count": 4,
   "id": "799059de9956beef",
   "metadata": {
    "ExecuteTime": {
     "end_time": "2024-02-20T23:54:41.982364Z",
     "start_time": "2024-02-20T23:54:41.967536Z"
    }
   },
   "outputs": [
    {
     "name": "stdout",
     "output_type": "stream",
     "text": [
      "[[1. 1. 1. 1.]\n",
      " [1. 1. 1. 1.]\n",
      " [1. 1. 1. 1.]]\n"
     ]
    }
   ],
   "source": [
    "ones = np.ones((3,4))\n",
    "print(ones)"
   ]
  },
  {
   "cell_type": "markdown",
   "id": "d6ab4dfb05e26ea8",
   "metadata": {},
   "source": [
    "3. Create an array containing integers 4 to 13 inclusive. Your results should look as below:\n",
    "[4 5 6 7 8 9 10 11 12 13]"
   ]
  },
  {
   "cell_type": "code",
   "execution_count": 5,
   "id": "fe9ec6b2ee4f895b",
   "metadata": {
    "ExecuteTime": {
     "end_time": "2024-02-20T23:56:09.096009Z",
     "start_time": "2024-02-20T23:56:09.085031Z"
    }
   },
   "outputs": [
    {
     "name": "stdout",
     "output_type": "stream",
     "text": [
      "[ 4  5  6  7  8  9 10 11 12 13]\n"
     ]
    }
   ],
   "source": [
    "inclusive = np.arange(4, 14)\n",
    "print(inclusive)"
   ]
  },
  {
   "cell_type": "markdown",
   "id": "f34b9ac3ab5ffaed",
   "metadata": {},
   "source": [
    "4. Create an array containing\n",
    "[0., 1.5, 3., 4.5]"
   ]
  },
  {
   "cell_type": "code",
   "execution_count": 6,
   "id": "ecf751b4bcada790",
   "metadata": {
    "ExecuteTime": {
     "end_time": "2024-02-20T23:57:23.279676Z",
     "start_time": "2024-02-20T23:57:23.272554Z"
    }
   },
   "outputs": [
    {
     "name": "stdout",
     "output_type": "stream",
     "text": [
      "[0.  1.5 3.  4.5]\n"
     ]
    }
   ],
   "source": [
    "new_array = np.array([0, 1.5,3,4.5])\n",
    "print(new_array)"
   ]
  },
  {
   "cell_type": "markdown",
   "id": "98e2256a3651cfdf",
   "metadata": {},
   "source": [
    "5. Create a 2 by 2 array containing '4' in each position. Your results should look like this:\n",
    "[[4 4]\n",
    " [4 4]]"
   ]
  },
  {
   "cell_type": "code",
   "execution_count": 7,
   "id": "73b917d002397707",
   "metadata": {
    "ExecuteTime": {
     "end_time": "2024-02-20T23:58:51.262512Z",
     "start_time": "2024-02-20T23:58:51.248133Z"
    }
   },
   "outputs": [
    {
     "name": "stdout",
     "output_type": "stream",
     "text": [
      "[[4. 4.]\n",
      " [4. 4.]]\n"
     ]
    }
   ],
   "source": [
    "fours = np.ones((2,2))*4\n",
    "print(fours)"
   ]
  },
  {
   "cell_type": "markdown",
   "id": "ce85ca7463b28fd5",
   "metadata": {},
   "source": [
    "6\n",
    ". Create 2 matrices:\n",
    "i. Identity matrix of size 4\n",
    "[[1. 0. 0. 0.]\n",
    " [0. 1. 0. 0.]\n",
    " [0. 0. 1. 0.]\n",
    " [0. 0. 0. 1.]]\n",
    "ii. Diagonal matrix with [10,12] as the diagonals\n",
    "[[10  0]\n",
    " [ 0 12]]"
   ]
  },
  {
   "cell_type": "code",
   "execution_count": 8,
   "id": "9cd48b0dc163e3e7",
   "metadata": {
    "ExecuteTime": {
     "end_time": "2024-02-21T00:00:28.812207Z",
     "start_time": "2024-02-21T00:00:28.807489Z"
    }
   },
   "outputs": [
    {
     "name": "stdout",
     "output_type": "stream",
     "text": [
      "[[1. 0. 0. 0.]\n",
      " [0. 1. 0. 0.]\n",
      " [0. 0. 1. 0.]\n",
      " [0. 0. 0. 1.]]\n"
     ]
    }
   ],
   "source": [
    "identity = np.identity(4)\n",
    "print(identity)"
   ]
  },
  {
   "cell_type": "code",
   "execution_count": 9,
   "id": "16501b37698f7e99",
   "metadata": {
    "ExecuteTime": {
     "end_time": "2024-02-21T00:00:56.965618Z",
     "start_time": "2024-02-21T00:00:56.961234Z"
    }
   },
   "outputs": [
    {
     "name": "stdout",
     "output_type": "stream",
     "text": [
      "[[10  0]\n",
      " [ 0 12]]\n"
     ]
    }
   ],
   "source": [
    "diagonal = np.diag([10,12])\n",
    "print(diagonal)"
   ]
  },
  {
   "cell_type": "markdown",
   "id": "ebe71e4d72789b86",
   "metadata": {},
   "source": [
    "7. Create a 3 by 3 array with random floats in [0, 10]. Your answer may be different because it is random but it should look something like this:\n",
    "[[6.3685612  0.61720883 8.93157783]\n",
    " [3.69927617 5.79879583 7.62145626]\n",
    " [7.21895112 4.02011535 4.48844787]]"
   ]
  },
  {
   "cell_type": "code",
   "execution_count": 10,
   "id": "dfabdc6541164a69",
   "metadata": {
    "ExecuteTime": {
     "end_time": "2024-02-21T00:03:17.823805Z",
     "start_time": "2024-02-21T00:03:17.807847Z"
    }
   },
   "outputs": [
    {
     "name": "stdout",
     "output_type": "stream",
     "text": [
      "[[3.64791317 0.82582209 0.52577666]\n",
      " [7.42466724 3.06874865 2.1415522 ]\n",
      " [2.28256877 4.40050115 3.60104209]]\n"
     ]
    }
   ],
   "source": [
    "random = np.random.uniform(0,10, (3,3))\n",
    "print(random)"
   ]
  },
  {
   "cell_type": "markdown",
   "id": "9e77170637c0795",
   "metadata": {},
   "source": [
    "8. Create a 3 by 3 array with random integers in [10, 20]. Your answer may be different because it is random but it should look something like this:\n",
    "[[19 11 13]\n",
    " [10 11 13]\n",
    " [11 14 10]]"
   ]
  },
  {
   "cell_type": "code",
   "execution_count": 11,
   "id": "b3d7db5db7e8d4b0",
   "metadata": {
    "ExecuteTime": {
     "end_time": "2024-02-21T00:04:37.952420Z",
     "start_time": "2024-02-21T00:04:37.947068Z"
    }
   },
   "outputs": [
    {
     "name": "stdout",
     "output_type": "stream",
     "text": [
      "[[15 16 16]\n",
      " [14 12 11]\n",
      " [17 10 12]]\n"
     ]
    }
   ],
   "source": [
    "rand_int = np.random.randint(10,20, (3,3))\n",
    "print(rand_int)"
   ]
  },
  {
   "cell_type": "markdown",
   "id": "effab1528438da83",
   "metadata": {},
   "source": [
    "SLICING ARRAYS"
   ]
  },
  {
   "cell_type": "markdown",
   "id": "3093fb9cd85ecce5",
   "metadata": {},
   "source": [
    "1. Use this array for the following practice:\n",
    "myArray = np.array([[11,12,13], [14,15,16], [17,18,19]])\n",
    "a. Get a subarray of the first row and first 2 columns. Your results should look like this:\n",
    "[11 12]\n",
    "b. Change all elements in 1st and second row to 0. Your results should look like this:\n",
    "[[ 0  0  0]\n",
    " [ 0  0  0]\n",
    " [17 18 19]]"
   ]
  },
  {
   "cell_type": "code",
   "execution_count": 12,
   "id": "50ce925b0050c1eb",
   "metadata": {
    "ExecuteTime": {
     "end_time": "2024-02-21T00:06:39.477685Z",
     "start_time": "2024-02-21T00:06:39.474081Z"
    }
   },
   "outputs": [
    {
     "name": "stdout",
     "output_type": "stream",
     "text": [
      "[11 12 13]\n"
     ]
    }
   ],
   "source": [
    "myArray = np.array([[11,12,13], [14,15,16], [17,18,19]])\n",
    "subarray = myArray[0]\n",
    "print(subarray)"
   ]
  },
  {
   "cell_type": "code",
   "execution_count": 13,
   "id": "85b20570a2f3716",
   "metadata": {
    "ExecuteTime": {
     "end_time": "2024-02-21T00:11:45.370648Z",
     "start_time": "2024-02-21T00:11:45.360008Z"
    }
   },
   "outputs": [
    {
     "name": "stdout",
     "output_type": "stream",
     "text": [
      "[[ 0  0  0]\n",
      " [ 0  0  0]\n",
      " [17 18 19]]\n"
     ]
    }
   ],
   "source": [
    "change = myArray\n",
    "change[[0,1]] = np.zeros(3)\n",
    "print(change)"
   ]
  },
  {
   "cell_type": "markdown",
   "id": "e83db7d028355ec6",
   "metadata": {},
   "source": [
    "2. Create an array that contains [0,1,2,3,4,5,6,7,8,9,10,11,12,13,14,15,16,17,18,19,20] and reverse the order."
   ]
  },
  {
   "cell_type": "code",
   "execution_count": 14,
   "id": "7f1c3856f8aa93a1",
   "metadata": {
    "ExecuteTime": {
     "end_time": "2024-02-21T00:13:19.974071Z",
     "start_time": "2024-02-21T00:13:19.969244Z"
    }
   },
   "outputs": [
    {
     "name": "stdout",
     "output_type": "stream",
     "text": [
      "[20 19 18 17 16 15 14 13 12 11 10  9  8  7  6  5  4  3  2  1  0]\n"
     ]
    }
   ],
   "source": [
    "reverse = np.arange(0,21)\n",
    "reverse = reverse[::-1]\n",
    "print(reverse)"
   ]
  },
  {
   "cell_type": "markdown",
   "id": "a47c7b7ce404ba0d",
   "metadata": {},
   "source": [
    "RESHAPING\n",
    "Use this array for the following practice:\n",
    "myArray = np.array([[11,12,13], [14,15,16]])\n",
    "Reshape the array to an array with 3 rows. Your results should look like this:\n",
    "[[11 12]\n",
    " [13 14]\n",
    " [15 16]]"
   ]
  },
  {
   "cell_type": "code",
   "execution_count": 15,
   "id": "44b22d22150d1ff",
   "metadata": {
    "ExecuteTime": {
     "end_time": "2024-02-21T00:15:41.420665Z",
     "start_time": "2024-02-21T00:15:41.415218Z"
    }
   },
   "outputs": [
    {
     "name": "stdout",
     "output_type": "stream",
     "text": [
      "[[11 14]\n",
      " [12 15]\n",
      " [13 16]]\n"
     ]
    }
   ],
   "source": [
    "myArray = np.array([[11,12,13], [14,15,16]])\n",
    "reshape = np.transpose(myArray)\n",
    "print(reshape)"
   ]
  },
  {
   "cell_type": "markdown",
   "id": "6343492114df0045",
   "metadata": {},
   "source": [
    "MATH\n",
    "Use this array for the following practice:\n",
    "myArray = np.arange(10)\n",
    "1. Find the square of every number in array\n",
    "2. Find the square root of every number in array\n",
    "3. Multiply the square of each number in array with its respective square root"
   ]
  },
  {
   "cell_type": "code",
   "execution_count": 16,
   "id": "398ead3ff62b2d2",
   "metadata": {
    "ExecuteTime": {
     "end_time": "2024-02-21T00:18:47.706826Z",
     "start_time": "2024-02-21T00:18:47.699044Z"
    }
   },
   "outputs": [
    {
     "name": "stdout",
     "output_type": "stream",
     "text": [
      "[0 1 2 3 4 5 6 7 8 9]\n"
     ]
    }
   ],
   "source": [
    "myArray = np.arange(10)\n",
    "print(myArray)"
   ]
  },
  {
   "cell_type": "code",
   "execution_count": 17,
   "id": "dcca193589af19f5",
   "metadata": {
    "ExecuteTime": {
     "end_time": "2024-02-21T00:17:28.329983Z",
     "start_time": "2024-02-21T00:17:28.322258Z"
    }
   },
   "outputs": [
    {
     "name": "stdout",
     "output_type": "stream",
     "text": [
      "[ 0  1  4  9 16 25 36 49 64 81]\n"
     ]
    }
   ],
   "source": [
    "squares = np.square(myArray)\n",
    "print(squares)"
   ]
  },
  {
   "cell_type": "code",
   "execution_count": 18,
   "id": "42d905bedaa2f838",
   "metadata": {
    "ExecuteTime": {
     "end_time": "2024-02-21T00:17:44.069355Z",
     "start_time": "2024-02-21T00:17:44.057827Z"
    }
   },
   "outputs": [
    {
     "name": "stdout",
     "output_type": "stream",
     "text": [
      "[0.         1.         1.41421356 1.73205081 2.         2.23606798\n",
      " 2.44948974 2.64575131 2.82842712 3.        ]\n"
     ]
    }
   ],
   "source": [
    "square_root = np.sqrt(myArray)\n",
    "print(square_root)"
   ]
  },
  {
   "cell_type": "code",
   "execution_count": 19,
   "id": "4b5ec95222fd7c61",
   "metadata": {
    "ExecuteTime": {
     "end_time": "2024-02-21T00:18:21.750856Z",
     "start_time": "2024-02-21T00:18:21.740306Z"
    }
   },
   "outputs": [
    {
     "name": "stdout",
     "output_type": "stream",
     "text": [
      "[  0.           1.           5.65685425  15.58845727  32.\n",
      "  55.90169944  88.18163074 129.64181424 181.01933598 243.        ]\n"
     ]
    }
   ],
   "source": [
    "multiple = np.multiply(squares, square_root)\n",
    "print(multiple)"
   ]
  },
  {
   "cell_type": "markdown",
   "id": "e1978c4f24c9dd6",
   "metadata": {},
   "source": [
    "ADDING ELEMENTS\n",
    "Use this array for the following practice:\n",
    "myArray = np.array([[11,12,13], [14,15,16], [17,18,19]])\n",
    "1. Add a new row of elements containing 20, 21 and 22\n",
    "2. Add a new column of elements containing 30, 40 and 50"
   ]
  },
  {
   "cell_type": "code",
   "execution_count": 20,
   "id": "cca86428d68efe8f",
   "metadata": {
    "ExecuteTime": {
     "end_time": "2024-02-21T00:30:54.062411Z",
     "start_time": "2024-02-21T00:30:54.045042Z"
    }
   },
   "outputs": [
    {
     "name": "stdout",
     "output_type": "stream",
     "text": [
      "[[11 12 13]\n",
      " [14 15 16]\n",
      " [17 18 19]\n",
      " [20 21 22]]\n"
     ]
    }
   ],
   "source": [
    "myArray = np.array([[11,12,13], [14,15,16], [17,18,19]])\n",
    "new_row = np.array([20,21,22])\n",
    "new_array = np.vstack((myArray,new_row))\n",
    "print(new_array)"
   ]
  },
  {
   "cell_type": "code",
   "execution_count": 21,
   "id": "97aaa41d9c477ba8",
   "metadata": {
    "ExecuteTime": {
     "end_time": "2024-02-21T00:31:07.812818Z",
     "start_time": "2024-02-21T00:31:07.797897Z"
    }
   },
   "outputs": [
    {
     "name": "stdout",
     "output_type": "stream",
     "text": [
      "[[11 12 13 30]\n",
      " [14 15 16 40]\n",
      " [17 18 19 50]]\n"
     ]
    }
   ],
   "source": [
    "new_column = np.array([[30], [40], [50]])\n",
    "new_array_2 = np.hstack((myArray, new_column))\n",
    "print(new_array_2)"
   ]
  },
  {
   "cell_type": "markdown",
   "id": "ad04e724188d1025",
   "metadata": {},
   "source": [
    "INSERTING ELEMENTS\n",
    "1. Add 1 column of 1 to this array: myArray = np.zeros((2,2))\n",
    "2. Add 2 rows of 2 to the answer from part 1\n",
    "3. Remove the last column\n",
    "4. Remove the last row"
   ]
  },
  {
   "cell_type": "code",
   "execution_count": 22,
   "id": "551d6ccec4c1e37e",
   "metadata": {
    "ExecuteTime": {
     "end_time": "2024-02-21T00:31:38.456812Z",
     "start_time": "2024-02-21T00:31:38.445475Z"
    }
   },
   "outputs": [
    {
     "name": "stdout",
     "output_type": "stream",
     "text": [
      "[[0. 0.]\n",
      " [0. 0.]]\n"
     ]
    }
   ],
   "source": [
    "myArray = np.zeros((2,2))\n",
    "print(myArray)"
   ]
  },
  {
   "cell_type": "code",
   "execution_count": 23,
   "id": "5212f5e8ab610016",
   "metadata": {
    "ExecuteTime": {
     "end_time": "2024-02-21T00:33:06.829594Z",
     "start_time": "2024-02-21T00:33:06.579228Z"
    }
   },
   "outputs": [
    {
     "name": "stdout",
     "output_type": "stream",
     "text": [
      "[[0. 0.]\n",
      " [0. 0.]\n",
      " [1. 1.]]\n"
     ]
    }
   ],
   "source": [
    "add_ones = np.vstack((myArray, np.array([1,1])))\n",
    "print(add_ones)"
   ]
  },
  {
   "cell_type": "code",
   "execution_count": 24,
   "id": "72b2fc3235ad59ad",
   "metadata": {
    "ExecuteTime": {
     "end_time": "2024-02-21T00:34:07.559739Z",
     "start_time": "2024-02-21T00:34:07.540391Z"
    }
   },
   "outputs": [
    {
     "name": "stdout",
     "output_type": "stream",
     "text": [
      "[[0. 0.]\n",
      " [0. 0.]\n",
      " [1. 1.]\n",
      " [2. 2.]\n",
      " [2. 2.]]\n"
     ]
    }
   ],
   "source": [
    "add_two = np.vstack((add_ones, np.array([[2,2], [2,2]])))\n",
    "print(add_two)"
   ]
  },
  {
   "cell_type": "code",
   "execution_count": 25,
   "id": "a58115319f464b1d",
   "metadata": {
    "ExecuteTime": {
     "end_time": "2024-02-21T00:35:08.019148Z",
     "start_time": "2024-02-21T00:35:07.976795Z"
    }
   },
   "outputs": [
    {
     "name": "stdout",
     "output_type": "stream",
     "text": [
      "[[0.]\n",
      " [0.]]\n"
     ]
    }
   ],
   "source": [
    "remove_last_col = np.delete(myArray, 1, axis=1)\n",
    "print(remove_last_col)"
   ]
  },
  {
   "cell_type": "code",
   "execution_count": 26,
   "id": "75f7dc6c93edf56a",
   "metadata": {
    "ExecuteTime": {
     "end_time": "2024-02-21T00:35:47.459463Z",
     "start_time": "2024-02-21T00:35:47.447803Z"
    }
   },
   "outputs": [
    {
     "name": "stdout",
     "output_type": "stream",
     "text": [
      "[[0. 0.]]\n"
     ]
    }
   ],
   "source": [
    "remove_last_row = np.delete(myArray, 1, axis =0)\n",
    "print(remove_last_row)"
   ]
  },
  {
   "cell_type": "markdown",
   "id": "5149adde89c485ee",
   "metadata": {},
   "source": [
    "DELETING ELEMENTS\n",
    "Remove the elements from the middle column of this array:\n",
    "myArray = np.matrix([[1, 2, 3], [4, 5, 6], [9, 8, 7]])\n",
    "Your codes should look like this:\n",
    "[[1 3]\n",
    " [4 6]\n",
    " [9 7]]"
   ]
  },
  {
   "cell_type": "code",
   "execution_count": 27,
   "id": "1a540a664579bdbd",
   "metadata": {
    "ExecuteTime": {
     "end_time": "2024-02-21T00:36:23.969312Z",
     "start_time": "2024-02-21T00:36:23.959127Z"
    }
   },
   "outputs": [
    {
     "name": "stdout",
     "output_type": "stream",
     "text": [
      "[[1 2 3]\n",
      " [4 5 6]\n",
      " [9 8 7]]\n"
     ]
    }
   ],
   "source": [
    "myArray = np.matrix([[1, 2, 3], [4, 5, 6], [9, 8, 7]])\n",
    "print(myArray)"
   ]
  },
  {
   "cell_type": "code",
   "execution_count": 28,
   "id": "e24186000b09232e",
   "metadata": {
    "ExecuteTime": {
     "end_time": "2024-02-21T00:37:15.347369Z",
     "start_time": "2024-02-21T00:37:15.318948Z"
    }
   },
   "outputs": [
    {
     "name": "stdout",
     "output_type": "stream",
     "text": [
      "[[1 3]\n",
      " [4 6]\n",
      " [9 7]]\n"
     ]
    }
   ],
   "source": [
    "remove_mid = np.delete(myArray, 1, axis = 1)\n",
    "print(remove_mid)"
   ]
  },
  {
   "cell_type": "markdown",
   "id": "cbebb52558d1f6df",
   "metadata": {},
   "source": [
    "TEST EXERCISE\n",
    "Replace all odd numbers in the given array with -1\n",
    "Start with:\n",
    "exercise_1 = np.array([0, 1, 2, 3, 4, 5, 6, 7, 8, 9])\n",
    "Desired output:\n",
    "[ 0, -1, 2, -1, 4, -1, 6, -1, 8, -1]"
   ]
  },
  {
   "cell_type": "code",
   "execution_count": 29,
   "id": "72c3a947d6d46639",
   "metadata": {
    "ExecuteTime": {
     "end_time": "2024-02-22T19:16:49.151391Z",
     "start_time": "2024-02-22T19:16:49.124245Z"
    }
   },
   "outputs": [
    {
     "name": "stdout",
     "output_type": "stream",
     "text": [
      "[ 0 -1  2 -1  4 -1  6 -1  8 -1]\n"
     ]
    }
   ],
   "source": [
    "exercise_1 = np.array([0, 1, 2, 3, 4, 5, 6, 7, 8, 9])\n",
    "mask = exercise_1 % 2 != 0\n",
    "exercise_1[mask] = -1\n",
    "print(exercise_1)"
   ]
  },
  {
   "cell_type": "markdown",
   "id": "b76c1462247e8940",
   "metadata": {},
   "source": [
    "Convert a 1-D array into a 2-D array with 3 rows\n",
    "Start with:\n",
    "exercise_2 = np.array([0, 1, 2, 3, 4, 5, 6, 7, 8])\n",
    "Desired output:\n",
    "[[ 0, 1, 2]\n",
    "[3, 4, 5]\n",
    "[6, 7, 8]]"
   ]
  },
  {
   "cell_type": "code",
   "execution_count": 30,
   "id": "6fda96250b464cf7",
   "metadata": {
    "ExecuteTime": {
     "end_time": "2024-02-22T19:18:06.535512Z",
     "start_time": "2024-02-22T19:18:06.520388Z"
    }
   },
   "outputs": [
    {
     "name": "stdout",
     "output_type": "stream",
     "text": [
      "[[0 1 2]\n",
      " [3 4 5]\n",
      " [6 7 8]]\n"
     ]
    }
   ],
   "source": [
    "exercise_2 = np.array([0, 1, 2, 3, 4, 5, 6, 7, 8])\n",
    "exercise_2 = exercise_2.reshape(3,-1)\n",
    "print(exercise_2)"
   ]
  },
  {
   "cell_type": "markdown",
   "id": "a94e72e69f46c460",
   "metadata": {},
   "source": [
    "Add 202 to all the values in given array\n",
    "Start with:\n",
    "exercise_3 = np.arange(4).reshape(2,-1)\n",
    "Desired output:\n",
    "[[202, 203]\n",
    "[204, 205]]"
   ]
  },
  {
   "cell_type": "code",
   "execution_count": 31,
   "id": "195289591b46502a",
   "metadata": {
    "ExecuteTime": {
     "end_time": "2024-02-22T19:18:50.545289Z",
     "start_time": "2024-02-22T19:18:50.530434Z"
    }
   },
   "outputs": [
    {
     "name": "stdout",
     "output_type": "stream",
     "text": [
      "[[202 203]\n",
      " [204 205]]\n"
     ]
    }
   ],
   "source": [
    "exercise_3 = np.arange(4).reshape(2,-1)\n",
    "exercise_3 = exercise_3 + 202\n",
    "print(exercise_3)"
   ]
  },
  {
   "cell_type": "markdown",
   "id": "781327d0784b8ddc",
   "metadata": {},
   "source": [
    "Generate a 1-D array of 10 random integers. Each integer should be a number between 30 and 40 (inclusive)\n",
    "Sample of desired output:\n",
    "[36, 30, 36, 38, 31, 35, 36, 30, 32, 34]"
   ]
  },
  {
   "cell_type": "code",
   "execution_count": 32,
   "id": "b6438a63af8ea1f9",
   "metadata": {
    "ExecuteTime": {
     "end_time": "2024-02-22T19:20:43.714477Z",
     "start_time": "2024-02-22T19:20:43.711043Z"
    }
   },
   "outputs": [
    {
     "name": "stdout",
     "output_type": "stream",
     "text": [
      "[32 30 37 39 38 34 38 33 39 38]\n"
     ]
    }
   ],
   "source": [
    "random_array = np.random.randint(30,41, size= 10)\n",
    "print(random_array)"
   ]
  },
  {
   "cell_type": "markdown",
   "id": "ee9bf416d4885fa",
   "metadata": {},
   "source": [
    "Find the positions of:\n",
    "elements in x where its value is more than its corresponding element in y, and\n",
    "elements in x where its value is equals to its corresponding element in y.\n",
    "Start with these:\n",
    "x = np.array([21, 64, 86, 22, 74, 55, 81, 79, 90, 89])\n",
    "y = np.array([21, 7, 3, 45, 10, 29, 55, 4, 37, 18])\n",
    "Desired output:\n",
    "(array([1, 2, 4, 5, 6, 7, 8, 9]),) and (array([0]),)"
   ]
  },
  {
   "cell_type": "code",
   "execution_count": 33,
   "id": "2f77a0542b8ab54a",
   "metadata": {
    "ExecuteTime": {
     "end_time": "2024-02-22T19:23:00.154193Z",
     "start_time": "2024-02-22T19:23:00.133137Z"
    }
   },
   "outputs": [
    {
     "name": "stdout",
     "output_type": "stream",
     "text": [
      "[1 2 4 5 6 7 8 9]  and  [0]\n"
     ]
    }
   ],
   "source": [
    "x = np.array([21, 64, 86, 22, 74, 55, 81, 79, 90, 89])\n",
    "y = np.array([21, 7, 3, 45, 10, 29, 55, 4, 37, 18])\n",
    "greater_than = np.where(x>y)[0]\n",
    "equal_to = np.where(x==y)[0]\n",
    "print(greater_than, ' and ', equal_to)"
   ]
  },
  {
   "cell_type": "markdown",
   "id": "59d674ac39c6c5f8",
   "metadata": {},
   "source": [
    "Extract the first four columns of this 2-D array\n",
    "Start with this:\n",
    "exercise_6 = np.arange(100).reshape(5,-1)\n",
    "Desired output:\n",
    "[[ 0 1 2 3]\n",
    "[20 21 22 23]\n",
    "[40 41 42 43]\n",
    "[60 61 62 63]\n",
    "[80 81 82 83]]"
   ]
  },
  {
   "cell_type": "code",
   "execution_count": 34,
   "id": "b4275f2b70d8f05a",
   "metadata": {
    "ExecuteTime": {
     "end_time": "2024-02-22T19:24:24.674497Z",
     "start_time": "2024-02-22T19:24:24.667142Z"
    }
   },
   "outputs": [
    {
     "name": "stdout",
     "output_type": "stream",
     "text": [
      "[[ 0  1  2  3]\n",
      " [20 21 22 23]\n",
      " [40 41 42 43]\n",
      " [60 61 62 63]\n",
      " [80 81 82 83]]\n"
     ]
    }
   ],
   "source": [
    "exercise_6 = np.arange(100).reshape(5,-1)\n",
    "first_four = exercise_6[:,:4]\n",
    "print(first_four)"
   ]
  },
  {
   "cell_type": "code",
   "execution_count": null,
   "id": "41a3a9eb70699032",
   "metadata": {},
   "outputs": [],
   "source": []
  }
 ],
 "metadata": {
  "kernelspec": {
   "display_name": "Python 3 (ipykernel)",
   "language": "python",
   "name": "python3"
  },
  "language_info": {
   "codemirror_mode": {
    "name": "ipython",
    "version": 3
   },
   "file_extension": ".py",
   "mimetype": "text/x-python",
   "name": "python",
   "nbconvert_exporter": "python",
   "pygments_lexer": "ipython3",
   "version": "3.11.5"
  }
 },
 "nbformat": 4,
 "nbformat_minor": 5
}
